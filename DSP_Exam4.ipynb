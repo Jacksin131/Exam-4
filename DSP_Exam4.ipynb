{
 "cells": [
  {
   "cell_type": "code",
   "execution_count": 1,
   "id": "10fbac6c",
   "metadata": {},
   "outputs": [],
   "source": [
    "# import need packages\n",
    "import pandas as pd"
   ]
  },
  {
   "cell_type": "code",
   "execution_count": 2,
   "id": "f159721f",
   "metadata": {},
   "outputs": [],
   "source": [
    "# function that prints the the total possible and observed kmers in a string with their respective occurances\n",
    "def number_kmers(string, k):\n",
    "   # creates a dictionary of each possible substring and their respective number of occurances\n",
    "    counts = {}\n",
    "    kmers_num = len(string)-k+1\n",
    "    for i in range(kmers_num):\n",
    "        kmer = string[i:i+k]\n",
    "        \n",
    "        if kmer not in counts:\n",
    "            counts[kmer] = 0\n",
    "        counts[kmer] +=1   \n",
    "    print(counts)\n",
    "    \n",
    "    # prints the total possible kmers\n",
    "    values = []\n",
    "    for i in counts:\n",
    "        values.append(counts.get(i))\n",
    "    print('Possible kmers total =', sum(values))\n",
    "    print(' ')\n",
    "    # prints the observed substrings with the total\n",
    "    mers = []\n",
    "    for i in counts:\n",
    "        mers.append(str(i))\n",
    "    print(mers)\n",
    "    print('Observed kmers total =', len(mers))\n",
    "    \n",
    "    return\n"
   ]
  },
  {
   "cell_type": "code",
   "execution_count": 3,
   "id": "5a7e02ef",
   "metadata": {},
   "outputs": [],
   "source": [
    "# a function that returns just the total number of possible and observed kmers aswell as k\n",
    "def raw_kmers(string, k):\n",
    "   # creates a dictionary of each possible substring and their respective number of occurances\n",
    "    counts = {}\n",
    "    kmers_num = len(string)-k+1\n",
    "    for i in range(kmers_num):\n",
    "        kmer = string[i:i+k]\n",
    "        \n",
    "        if kmer not in counts:\n",
    "            counts[kmer] = 0\n",
    "        counts[kmer] +=1   \n",
    "        \n",
    "    # saves the total possible kmers\n",
    "    values = []\n",
    "    for i in counts:\n",
    "        values.append(counts.get(i))\n",
    "    x = sum(values)\n",
    "\n",
    "    \n",
    "    # saves the observed substrings with the total\n",
    "    mers = []\n",
    "    for i in counts:\n",
    "        mers.append(str(i))\n",
    "    y = len(mers) \n",
    "        \n",
    "    return k,y,x"
   ]
  },
  {
   "cell_type": "code",
   "execution_count": 4,
   "id": "2fe1e716",
   "metadata": {},
   "outputs": [],
   "source": [
    "# fucntion that creates a dataframe populated with each kmer's respective observed and possible total\n",
    "def dataframe_kmers(string, k):\n",
    "    # creating the empty dataframe\n",
    "    df = pd.DataFrame(columns=[\"K\", \"Observed Kmers\", \"Possible Kmers\"])\n",
    "    # populating the dataframe\n",
    "    for i in range(1, k+1):\n",
    "        to_add = raw_kmers(string, i)\n",
    "        df.loc[i] = to_add\n",
    "    \n",
    "    df = df.set_index('K')\n",
    "    \n",
    "    return df\n",
    "\n",
    "    "
   ]
  },
  {
   "cell_type": "code",
   "execution_count": 5,
   "id": "bc15f975",
   "metadata": {},
   "outputs": [],
   "source": [
    "# fucntion to calculate linguistic complexity \n",
    "def lin_complex(string, k):\n",
    "    df = dataframe_kmers(string, k)\n",
    "    lin_comp = (df[\"Observed Kmers\"].sum())/(df['Possible Kmers'].sum())\n",
    "    lin_comp = round(lin_comp, 3)\n",
    "    return lin_comp"
   ]
  },
  {
   "cell_type": "code",
   "execution_count": 6,
   "id": "0a7cb3cb",
   "metadata": {},
   "outputs": [],
   "source": [
    "# fucntion that creates a dataframe populated with each kmer's \n",
    "# respective observed and possible total as well as ligustic complexity\n",
    "def full_kmers(string, k):\n",
    "    # creating the empty dataframe\n",
    "    df = pd.DataFrame(columns=[\"K\", \"Observed Kmers\", \"Possible Kmers\"])\n",
    "    df1 = pd.DataFrame(columns=['Linguistic Complexity'])                           \n",
    "    # populating the dataframe\n",
    "    for i in range(1, k+1):\n",
    "        to_add = raw_kmers('ATTTGGATT', i)\n",
    "        lc = lin_complex(string, i)\n",
    "        df.loc[i] = to_add\n",
    "        df1.loc[i] = lc\n",
    "        \n",
    "    df2 = pd.concat([df,df1], axis=1)\n",
    "    df2 = df2.set_index('K')\n",
    "    return df2"
   ]
  },
  {
   "cell_type": "code",
   "execution_count": 7,
   "id": "703cf5fe",
   "metadata": {},
   "outputs": [],
   "source": [
    "def main (string, k):\n",
    "    x = number_kmers(string,k) # tests the number_kmers fucntion\n",
    "    y = full_kmers(string, k)\n",
    "    # tests the raw_kmers, dataframe_kmers, lin_complex, and full_kmers since they build on top of each other\n",
    "    return x,y"
   ]
  },
  {
   "cell_type": "code",
   "execution_count": 8,
   "id": "f5f32a39",
   "metadata": {},
   "outputs": [
    {
     "name": "stdout",
     "output_type": "stream",
     "text": [
      "{'ATTTGGATT': 1}\n",
      "Possible kmers total = 1\n",
      " \n",
      "['ATTTGGATT']\n",
      "Observed kmers total = 1\n"
     ]
    },
    {
     "data": {
      "text/plain": [
       "(None,\n",
       "   Observed Kmers Possible Kmers  Linguistic Complexity\n",
       " K                                                     \n",
       " 1              3              9                  0.333\n",
       " 2              5              8                  0.471\n",
       " 3              6              7                  0.583\n",
       " 4              6              6                  0.667\n",
       " 5              5              5                  0.714\n",
       " 6              4              4                  0.744\n",
       " 7              3              3                  0.762\n",
       " 8              2              2                  0.773\n",
       " 9              1              1                  0.778)"
      ]
     },
     "execution_count": 8,
     "metadata": {},
     "output_type": "execute_result"
    }
   ],
   "source": [
    "main('ATTTGGATT', 9)"
   ]
  }
 ],
 "metadata": {
  "kernelspec": {
   "display_name": "Python 3 (ipykernel)",
   "language": "python",
   "name": "python3"
  },
  "language_info": {
   "codemirror_mode": {
    "name": "ipython",
    "version": 3
   },
   "file_extension": ".py",
   "mimetype": "text/x-python",
   "name": "python",
   "nbconvert_exporter": "python",
   "pygments_lexer": "ipython3",
   "version": "3.9.7"
  }
 },
 "nbformat": 4,
 "nbformat_minor": 5
}
